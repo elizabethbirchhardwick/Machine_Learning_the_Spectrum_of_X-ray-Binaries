{
 "cells": [
  {
   "cell_type": "markdown",
   "id": "fd08d79a",
   "metadata": {},
   "source": [
    "# Example: Using exported polynomial regression coefficients to predict log(NH) and Gamma"
   ]
  },
  {
   "cell_type": "code",
   "execution_count": 1,
   "id": "7aabba42",
   "metadata": {},
   "outputs": [],
   "source": [
    "import pandas as pd\n",
    "import numpy as np\n",
    "from sklearn.preprocessing import PolynomialFeatures"
   ]
  },
  {
   "cell_type": "code",
   "execution_count": null,
   "id": "8be8c61e",
   "metadata": {},
   "outputs": [],
   "source": [
    "# Replace 'path_to_your_table.csv' with your actual file path\n",
    "input_table_path = \"path_to_your_table.csv\"\n",
    "data = pd.read_csv(input_table_path)  # Assumes the CSV contains 'H' and 'S' columns\n",
    "\n",
    "# Load Coefficients\n",
    "which_cycle = \"cycle3\"  # Change to \"cycle25\" to use that model\n",
    "csv_file = f\"poly_coefficients_{which_cycle}.csv\"\n",
    "df_coef = pd.read_csv(csv_file)\n",
    "\n",
    "# Polynomial Degree Used During Training\n",
    "degree = 9  # Change to match the degree used to train the model (in my case 11 for cycle25 and 9 for cycle 3)\n",
    "\n",
    "# Prepare Polynomial Feature Generator\n",
    "poly = PolynomialFeatures(degree=degree)\n",
    "X_poly = poly.fit_transform(data)\n",
    "feature_names = poly.get_feature_names_out(['H', 'S'])\n",
    "\n",
    "# Predict for Each Output\n",
    "predictions = {\"Nh\": [], \"gamma\": []}\n",
    "for _, row in df_coef.iterrows():\n",
    "    output_name = row[\"output\"]\n",
    "    bias = row[\"bias\"]\n",
    "    coefs = np.array([row[name] for name in feature_names])\n",
    "    for x in X_poly:\n",
    "        pred = bias + np.dot(coefs, x)\n",
    "        predictions[output_name].append(pred)\n",
    "\n",
    "# Merge Predictions with Input Data\n",
    "data[\"log_NH\"] = predictions[\"Nh\"]\n",
    "data[\"Gamma\"] = predictions[\"gamma\"]\n",
    "\n",
    "# Display Final Table\n",
    "print(\"\\nPredictions from\", csv_file)\n",
    "print(data)\n"
   ]
  }
 ],
 "metadata": {
  "kernelspec": {
   "display_name": "Python 3 (ipykernel)",
   "language": "python",
   "name": "python3"
  },
  "language_info": {
   "codemirror_mode": {
    "name": "ipython",
    "version": 3
   },
   "file_extension": ".py",
   "mimetype": "text/x-python",
   "name": "python",
   "nbconvert_exporter": "python",
   "pygments_lexer": "ipython3",
   "version": "3.11.5"
  }
 },
 "nbformat": 4,
 "nbformat_minor": 5
}
